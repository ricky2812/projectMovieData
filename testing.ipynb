{
 "cells": [
  {
   "cell_type": "code",
   "execution_count": 1,
   "metadata": {},
   "outputs": [],
   "source": [
    "from selenium import webdriver\n",
    "from selenium.webdriver.chrome.options import Options\n",
    "from selenium.webdriver.common.by import By\n",
    "from selenium.webdriver.support.ui import WebDriverWait\n",
    "from selenium.webdriver.support import expected_conditions as EC\n",
    "import pandas as pd\n",
    "import time\n",
    "import concurrent.futures\n",
    "from IPython.display import display\n",
    "import json\n",
    "\n",
    "CHROME_PATH = 'C:/Program Files/Google/Chrome/Application/chrome.exe.'\n",
    "DRIVER_PATH = 'chromedriver.exe'\n",
    "WINDOW_SIZE = \"1920,1200\"\n",
    "options = Options()\n",
    "options.add_argument(\"--headless\")\n",
    "options.add_argument(\"--window-size=%s\" % WINDOW_SIZE)\n",
    "options.binary_location = CHROME_PATH"
   ]
  },
  {
   "cell_type": "code",
   "execution_count": 3,
   "metadata": {},
   "outputs": [],
   "source": [
    "list_id = ['tt9419884','tt3466016','tt4879892','tt4654776','tt0279637','tt1187043','tt0370001','tt0288784','tt8396096','tt1260351','tt2956300']"
   ]
  },
  {
   "cell_type": "code",
   "execution_count": 4,
   "metadata": {},
   "outputs": [],
   "source": [
    "sheet = pd.DataFrame(columns=['ID','Title', 'Year', 'Rating', 'Director', 'Actors', 'Genres'])"
   ]
  },
  {
   "cell_type": "code",
   "execution_count": 45,
   "metadata": {},
   "outputs": [
    {
     "name": "stderr",
     "output_type": "stream",
     "text": [
      "C:\\Users\\debar\\AppData\\Local\\Temp\\ipykernel_6040\\754032739.py:1: DeprecationWarning: executable_path has been deprecated, please pass in a Service object\n",
      "  driver = webdriver.Chrome(executable_path = DRIVER_PATH, chrome_options = options)\n",
      "C:\\Users\\debar\\AppData\\Local\\Temp\\ipykernel_6040\\754032739.py:1: DeprecationWarning: use options instead of chrome_options\n",
      "  driver = webdriver.Chrome(executable_path = DRIVER_PATH, chrome_options = options)\n"
     ]
    }
   ],
   "source": [
    "driver = webdriver.Chrome(executable_path = DRIVER_PATH, chrome_options = options)\n",
    "driver.get('https://www.imdb.com/title/' + list_id[4])\n",
    "data = driver.find_element(By.ID, '__NEXT_DATA__').get_attribute('innerHTML')\n",
    "data = json.loads(data)\n",
    "driver.quit()"
   ]
  },
  {
   "cell_type": "code",
   "execution_count": 51,
   "metadata": {},
   "outputs": [
    {
     "name": "stdout",
     "output_type": "stream",
     "text": [
      "{'ID': <built-in function id>, 'Title': 'Akasharaju', 'Year': 1951, 'Rating': None, 'Director': 'Jyotish Sinha', 'Actors': ['Seeta Rama Anjaneyulu Chilakalapudi', 'Lakshmirajyam', 'S.V. Ranga Rao'], 'Genres': 'N/A'}\n"
     ]
    }
   ],
   "source": [
    "base_address = \"data['props']['pageProps']['aboveTheFoldData']\"\n",
    "\n",
    "title_path = (f\"{base_address}['originalTitleText']['text'] if 'originalTitleText' in {base_address} else 'N/A'\")\n",
    "year_path = (f\"{base_address}['releaseYear']['year'] if 'releaseYear' in {base_address} else 'N/A'\")\n",
    "rating_path = (f\"{base_address}['ratingsSummary']['aggregateRating'] if 'ratingsSummary' in {base_address} else 'N/A'\")\n",
    "director_path = (f\"{base_address}['principalCredits'][0]['credits'][0]['name']['nameText']['text'] if 'principalCredits' in {base_address} else 'N/A'\")\n",
    "actor_path = (f\"{base_address}['principalCredits'][2]['credits'] if 'principalCredits' in {base_address} else 'N/A'\")\n",
    "genre_path = (f\"{base_address}['genres'] if 'genres' in {base_address} else 'N/A'\")\n",
    "\n",
    "general_cast_path = (f\"{base_address}['principalCredits']\")\n",
    "general_cast = eval(general_cast_path)\n",
    "title = eval(title_path)\n",
    "year = eval(year_path)\n",
    "rating = eval(rating_path)\n",
    "\n",
    "director = 'N/A'\n",
    "actor_list = []\n",
    "for item in general_cast:\n",
    "    type = item['category']['text']\n",
    "    if type == 'Director':\n",
    "        director = item['credits'][0]['name']['nameText']['text']\n",
    "    elif type == 'Stars':\n",
    "        actors = item['credits']\n",
    "        for actor in actors:\n",
    "            name = actor['name']['nameText']['text']\n",
    "            actor_list.append(name)\n",
    "genres = eval(genre_path)\n",
    "genre_list = []\n",
    "if genres == None:\n",
    "    genre_list = 'N/A'\n",
    "else:\n",
    "    for genre in genres['genres']:\n",
    "        genre_list.append(genre['text'])\n",
    "\n",
    "items = {'ID': id, 'Title': title, 'Year': year, 'Rating': rating, 'Director': director, 'Actors': actor_list, 'Genres': genre_list}\n",
    "print(items)"
   ]
  }
 ],
 "metadata": {
  "interpreter": {
   "hash": "205b1af2a36fc9b873948fcd945df97d4e7fe0398c281cee8fa0ab963bce39cd"
  },
  "kernelspec": {
   "display_name": "Python 3.9.12 64-bit (windows store)",
   "language": "python",
   "name": "python3"
  },
  "language_info": {
   "codemirror_mode": {
    "name": "ipython",
    "version": 3
   },
   "file_extension": ".py",
   "mimetype": "text/x-python",
   "name": "python",
   "nbconvert_exporter": "python",
   "pygments_lexer": "ipython3",
   "version": "3.9.13"
  },
  "orig_nbformat": 4
 },
 "nbformat": 4,
 "nbformat_minor": 2
}
